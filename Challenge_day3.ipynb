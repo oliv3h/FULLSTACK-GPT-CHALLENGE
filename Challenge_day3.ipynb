{
 "cells": [
  {
   "cell_type": "code",
   "execution_count": null,
   "metadata": {},
   "outputs": [
    {
     "name": "stdout",
     "output_type": "stream",
     "text": [
      "AI: 🦇👊🌃"
     ]
    },
    {
     "data": {
      "text/plain": [
       "{'movie': 'The Batman', 'history': [], 'text': 'AI: 🦇👊🌃'}"
      ]
     },
     "execution_count": 2,
     "metadata": {},
     "output_type": "execute_result"
    }
   ],
   "source": [
    "# 영화 제목을 통해 영화를 나타내는 세 개의 이모티콘으로 응답해야 합니다.\n",
    "# 항상 세 개의 이모티콘으로 답장하도록 체인에 예시를 제공하세요.\n",
    "\n",
    "from langchain.chains import LLMChain\n",
    "from langchain.memory import ConversationBufferWindowMemory\n",
    "from langchain.chat_models import ChatOpenAI\n",
    "from langchain.prompts import PromptTemplate\n",
    "from langchain.prompts.few_shot import FewShotPromptTemplate\n",
    "from langchain.callbacks import StreamingStdOutCallbackHandler\n",
    "\n",
    "memory = ConversationBufferWindowMemory(\n",
    "    return_messages=True,\n",
    "    k=10\n",
    ")\n",
    "\n",
    "chat = ChatOpenAI(\n",
    "    temperature=0.1,\n",
    "    streaming=True,\n",
    "    callbacks=[StreamingStdOutCallbackHandler()])\n",
    "\n",
    "examples = [\n",
    "    {\n",
    "        \"question\": \"Get Three emoji about movie 'Top Gun'\",\n",
    "        \"answer\": \"🛩️👨‍✈️🔥\",\n",
    "    },\n",
    "        {\n",
    "        \"question\": \"Get Three emoji about movie 'The Godfather'\",\n",
    "        \"answer\": \"👨‍👨‍👦🔫🍝\",\n",
    "    }\n",
    "]\n",
    "\n",
    "example_template = \"\"\"\n",
    "    Human: {question}\n",
    "    AI: {answer}\n",
    "\"\"\"\n",
    "\n",
    "\n",
    "example_prompt = PromptTemplate.from_template(example_template)\n",
    "\n",
    "prompt = FewShotPromptTemplate(\n",
    "    example_prompt=example_prompt,\n",
    "    examples=examples,\n",
    "    suffix=\"Human: Get Three emoji about movie '{movie}'\",\n",
    "    input_variables=[\"movie\"]\n",
    ")\n",
    "\n",
    "# chain = prompt | chat\n",
    "\n",
    "chain = LLMChain(\n",
    "    llm=chat,\n",
    "    prompt=prompt,\n",
    "    memory=memory\n",
    ")\n",
    "\n",
    "chain.invoke({\n",
    "    \"movie\" : \"The SuperMan\"\n",
    "})"
   ]
  },
  {
   "cell_type": "code",
   "execution_count": 5,
   "metadata": {},
   "outputs": [
    {
     "name": "stdout",
     "output_type": "stream",
     "text": [
      "AI: 🦸‍♂️💥🌌"
     ]
    },
    {
     "data": {
      "text/plain": [
       "{'history': [HumanMessage(content='The Batman'),\n",
       "  AIMessage(content='AI: 🦇👊🌃'),\n",
       "  HumanMessage(content='The SuperMan'),\n",
       "  AIMessage(content='AI: 🦸\\u200d♂️💥🌌')]}"
      ]
     },
     "execution_count": 5,
     "metadata": {},
     "output_type": "execute_result"
    }
   ],
   "source": [
    "chain.invoke({\n",
    "    \"movie\" : \"The SuperMan\"\n",
    "})\n",
    "\n",
    "memory.load_memory_variables({})"
   ]
  }
 ],
 "metadata": {
  "kernelspec": {
   "display_name": "env",
   "language": "python",
   "name": "python3"
  },
  "language_info": {
   "codemirror_mode": {
    "name": "ipython",
    "version": 3
   },
   "file_extension": ".py",
   "mimetype": "text/x-python",
   "name": "python",
   "nbconvert_exporter": "python",
   "pygments_lexer": "ipython3",
   "version": "3.11.2"
  }
 },
 "nbformat": 4,
 "nbformat_minor": 2
}
