{
 "cells": [
  {
   "cell_type": "code",
   "execution_count": 8,
   "metadata": {},
   "outputs": [
    {
     "name": "stdout",
     "output_type": "stream",
     "text": [
      "AI: \n",
      "            Here is what I know:\n",
      "            Director: Matt Reeves\n",
      "            Stars: Robert Pattinson, Zoe Kravitz, Colin Farrell\n",
      "            Synopsis: In his second year of fighting crime, Batman uncovers corruption in Gotham City that connects to his own family while facing off against the enigmatic Riddler.\n",
      "            Running Time: TBD\n",
      "            Genre: Superhero, Action, Crime, Drama"
     ]
    },
    {
     "data": {
      "text/plain": [
       "AIMessageChunk(content='AI: \\n            Here is what I know:\\n            Director: Matt Reeves\\n            Stars: Robert Pattinson, Zoe Kravitz, Colin Farrell\\n            Synopsis: In his second year of fighting crime, Batman uncovers corruption in Gotham City that connects to his own family while facing off against the enigmatic Riddler.\\n            Running Time: TBD\\n            Genre: Superhero, Action, Crime, Drama')"
      ]
     },
     "execution_count": 8,
     "metadata": {},
     "output_type": "execute_result"
    }
   ],
   "source": [
    "from langchain.chat_models import ChatOpenAI\n",
    "from langchain.prompts import PromptTemplate\n",
    "from langchain.prompts.few_shot import FewShotPromptTemplate\n",
    "from langchain.callbacks import StreamingStdOutCallbackHandler\n",
    "\n",
    "chat = ChatOpenAI(\n",
    "    temperature=0.1,\n",
    "    streaming=True,\n",
    "    callbacks=[StreamingStdOutCallbackHandler()]\n",
    ")\n",
    "\n",
    "# 영화 이름을 가지고 감독, 주요 출연진, 예산, 흥행 수익, 영화의 장르, 간단한 시놉시스 등 영화에 대한 정보로 답장하는 체인을 만드세요.\n",
    "\n",
    "examples = [\n",
    "    {\n",
    "        \"question\": \"What do you know about Iron Man?\",\n",
    "        \"answer\": \"\"\"\n",
    "            Here is what I know:\n",
    "            Director: Jon Favreau\n",
    "            Stars: Robert Downey Jr, Gwyneth Paltrow, Terrence Howard\n",
    "            Synopsis: After being held captive in an Afghan cave, billionaire engineer Tony Stark creates a unique weaponized suit of armor to fight evil.\n",
    "            Running Time: 2h 6m\n",
    "            Genre: Superhero, Action, Adventure, Sci-Fi\n",
    "        \"\"\",\n",
    "    },\n",
    "        {\n",
    "        \"question\": \"What do you know about The Avengers?\",\n",
    "        \"answer\": \"\"\"\n",
    "            Here is what I know:\n",
    "            Director: Joss Whedon\n",
    "            Stars: Robert Downey Jr, Chris Evans, Scarlett Johansson\n",
    "            Synopsis: Earth's mightiest heroes must come together and learn to fight as a team if they are going to stop the mischievous Loki and his alien army from enslaving humanity.\n",
    "            Running Time: 2h 23m\n",
    "            Genre: Superhero, Action, Alien Invasion, Sci-Fi\n",
    "        \"\"\",\n",
    "    },\n",
    "        {\n",
    "        \"question\": \"What do you know about Doctor Strange?\",\n",
    "        \"answer\": \"\"\"\n",
    "            Here is what I know:\n",
    "            Director: Scott Derrickson\n",
    "            Stars: Benedict Cumberbatch, Chiwetel Ejiofor, Rachel McAdams\n",
    "            Synopsis: While on a journey of physical and spiritual healing, a brilliant neurosurgeon is drawn into the world of the mystic arts.\n",
    "            Running Time: 1h 55m\n",
    "            Genre: Superhero, Action, Fantasy, Sci-Fi\n",
    "        \"\"\",\n",
    "    }\n",
    "]\n",
    "\n",
    "example_template = \"\"\"\n",
    "    Human: {question}\n",
    "    AI: {answer}\n",
    "\"\"\"\n",
    "\n",
    "example_prompt = PromptTemplate.from_template(example_template)\n",
    "\n",
    "prompt = FewShotPromptTemplate(\n",
    "    example_prompt=example_prompt,\n",
    "    examples=examples,\n",
    "    suffix=\"Human: What do you know about {movie}?\",\n",
    "    input_variables=[\"movie\"]\n",
    ")\n",
    "\n",
    "chain = prompt | chat\n",
    "\n",
    "chain.invoke({\n",
    "    \"movie\" : \"The Batman\"\n",
    "})"
   ]
  }
 ],
 "metadata": {
  "kernelspec": {
   "display_name": "env",
   "language": "python",
   "name": "python3"
  },
  "language_info": {
   "codemirror_mode": {
    "name": "ipython",
    "version": 3
   },
   "file_extension": ".py",
   "mimetype": "text/x-python",
   "name": "python",
   "nbconvert_exporter": "python",
   "pygments_lexer": "ipython3",
   "version": "3.11.2"
  }
 },
 "nbformat": 4,
 "nbformat_minor": 2
}
